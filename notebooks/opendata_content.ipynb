{
 "cells": [
  {
   "cell_type": "code",
   "execution_count": 15,
   "id": "fbbdba2b-9fdb-4dfb-8ec2-1c44517b9765",
   "metadata": {},
   "outputs": [],
   "source": [
    "import openai\n",
    "import json\n",
    "\n",
    "def evaluate_dataset_page(page_content: str, api_key: str) -> dict:\n",
    "    client = openai.OpenAI(api_key=api_key)\n",
    "    \n",
    "    prompt = \"\"\"Evaluate the following dataset webpage content against these criteria, providing a score from 0-100 for each:\n",
    "\n",
    "1. Does the data exist?\n",
    "2. Is it available online from government in any form?\n",
    "3. Is the dataset provided in machine-readable and reusable formats?\n",
    "4. Is the machine-readable and reusable data available as a whole?\n",
    "5. Is the dataset available free of charge?\n",
    "6. Is the data openly licensed?\n",
    "7. Is the dataset up to date?\n",
    "8. Is the dataset being kept regularly updated?\n",
    "9. Was it easy to find information about this dataset?\n",
    "10. Are data identifiers provided for key elements in the dataset?\n",
    "\n",
    "Provide your response in JSON format with criteria as keys and scores as values, plus a brief analysis. Include only these fields: scores (object with criteria and their scores), analysis (string with key findings). in a response that resembles \n",
    "\n",
    "{\n",
    "  \"scores\": {\n",
    "    \"Does the data exist?\": 100,\n",
    "    \"Is it available online from government in any form?\": 100,\n",
    "    \"Is the dataset provided in machine-readable and reusable formats?\": 100,\n",
    "    \"Is the machine-readable and reusable data available as a whole?\": 100,\n",
    "    \"Is the dataset available free of charge?\": 100,\n",
    "    \"Is the data openly licensed?\": 100,\n",
    "    \"Is the dataset up to date?\": 100,\n",
    "    \"Is the dataset being kept regularly updated?\": 100,\n",
    "    \"Was it easy to find information about this dataset?\": 85,\n",
    "    \"Are data identifiers provided for key elements in the dataset?\": 90\n",
    "  },\n",
    "  \"analysis\": \"The website is an official government site of the State of Nuevo Le\\u00f3n which contains datasets including detailed information about public servants. The data is available in a reusable and machine-readable format (CSV). It looks like the data is kept updated regularly, with the last update timestamp visible. Data is provided free of charge and is openly licensed. Information about the dataset was somewhat easily found but could be presented in a clearer way. There was some evidence of data identifiers being used, though further examination would be needed to ascertain the comprehensiveness of these identifiers.\"\n",
    "}\n",
    "\n",
    "\n",
    "\n",
    "Webpage content:\n",
    "\"\"\"\n",
    "\n",
    "    response = client.chat.completions.create(\n",
    "        model=\"gpt-4\",\n",
    "        messages=[\n",
    "            {\n",
    "                \"role\": \"system\",\n",
    "                \"content\": \"You are a data quality expert who evaluates open data portals. Provide numerical scores and brief analysis in a consistent json format.\"\n",
    "            },\n",
    "            {\n",
    "                \"role\": \"user\",\n",
    "                \"content\": prompt + page_content\n",
    "            }\n",
    "        ]\n",
    "    )\n",
    "    \n",
    "    return json.loads(response.choices[0].message.content)"
   ]
  },
  {
   "cell_type": "code",
   "execution_count": 16,
   "id": "d4e443b5-e511-431d-9efe-4e80f20df478",
   "metadata": {},
   "outputs": [],
   "source": [
    "import requests\n",
    "from bs4 import BeautifulSoup\n",
    "import re\n",
    "\n",
    "def extract_webpage_text(url, timeout=30):\n",
    "    \"\"\"\n",
    "    Fetches a webpage and extracts its text content, removing scripts, styles, and other non-content elements.\n",
    "    \n",
    "    Args:\n",
    "        url (str): The URL of the webpage to fetch\n",
    "        timeout (int): Request timeout in seconds\n",
    "        \n",
    "    Returns:\n",
    "        str: Cleaned text content of the webpage\n",
    "    \n",
    "    Raises:\n",
    "        requests.RequestException: If there's an error fetching the webpage\n",
    "    \"\"\"\n",
    "    try:\n",
    "        # Set a custom User-Agent to avoid potential blocks\n",
    "        headers = {\n",
    "            'User-Agent': 'Mozilla/5.0 (Windows NT 10.0; Win64; x64) AppleWebKit/537.36 (KHTML, like Gecko) Chrome/91.0.4472.124 Safari/537.36'\n",
    "        }\n",
    "        \n",
    "        # Fetch the webpage\n",
    "        response = requests.get(url, headers=headers, timeout=timeout, verify=False)\n",
    "        response.raise_for_status()\n",
    "        \n",
    "        # Parse the HTML\n",
    "        soup = BeautifulSoup(response.text, 'html.parser')\n",
    "        \n",
    "        # Remove unwanted elements\n",
    "        for element in soup(['script', 'style', 'head', 'title', 'meta', '[document]']):\n",
    "            element.decompose()\n",
    "            \n",
    "        # Get text and clean it\n",
    "        text = soup.get_text()\n",
    "        \n",
    "        # Clean the extracted text\n",
    "        lines = (line.strip() for line in text.splitlines())\n",
    "        chunks = (phrase.strip() for line in lines for phrase in line.split(\"  \"))\n",
    "        text = ' '.join(chunk for chunk in chunks if chunk)\n",
    "        \n",
    "        # Remove extra whitespace and normalize spaces\n",
    "        text = re.sub(r'\\s+', ' ', text).strip()\n",
    "        \n",
    "        return text\n",
    "        \n",
    "    except requests.RequestException as e:\n",
    "        raise Exception(f\"Error fetching webpage: {str(e)}\")\n",
    "\n",
    "def get_webpage_text(url):\n",
    "    \"\"\"\n",
    "    Simplified wrapper function for quick text extraction.\n",
    "    \n",
    "    Args:\n",
    "        url (str): The URL of the webpage\n",
    "    \n",
    "    Returns:\n",
    "        str: Extracted text or error message\n",
    "    \"\"\"\n",
    "    try:\n",
    "        return extract_webpage_text(url)\n",
    "    except Exception as e:\n",
    "        return f\"Error: {str(e)}\""
   ]
  },
  {
   "cell_type": "code",
   "execution_count": 17,
   "id": "2dbd9319-eb61-4f48-a779-63509c5f798d",
   "metadata": {},
   "outputs": [
    {
     "name": "stderr",
     "output_type": "stream",
     "text": [
      "/opt/homebrew/lib/python3.10/site-packages/urllib3/connectionpool.py:1099: InsecureRequestWarning: Unverified HTTPS request is being made to host 'catalogodatos.nl.gob.mx'. Adding certificate verification is strongly advised. See: https://urllib3.readthedocs.io/en/latest/advanced-usage.html#tls-warnings\n",
      "  warnings.warn(\n"
     ]
    }
   ],
   "source": [
    "content = get_webpage_text(\"https://catalogodatos.nl.gob.mx/dataset/personal-de-las-dependencias-gubernamentales-por-sexo\")"
   ]
  },
  {
   "cell_type": "code",
   "execution_count": 19,
   "id": "8b449d0e-87ec-4e4c-a1b0-a9a673a186e1",
   "metadata": {},
   "outputs": [
    {
     "data": {
      "text/plain": [
       "'Skip to main content Este es un sitio web oficial del Gobierno del Estado de Nuevo León y está soportado por la Subsecretaría de Tecnologías. Aprende a identificarlo Los sitios web oficiales del Gobierno de Nuevo León están adheridos al dominio nl.gob.mx Todos los sitios web oficiales del Gobierno de Nuevo León cuentan con certificado de seguridad. Este sitio está conectado a VÍA, el sistema de diseño web del Gobierno de Nuevo León. Síguenos: lock menu Acerca de ¿Qué son? Criterios de Publicación Datos Categorías Catálago de datos Instituciones Materiales Inicio Organizaciones Secretaría de Administración Personas servidoras... Organización Secretaría de Administración Dependencia encargada de administrar los recursos humanos, materiales y servicios que requiera la Administración Pública del Estado. Sitio oficial:... leer más Compartir en redes sociales Licencia Open Data Commons Attribution License Conjunto de datos Categorías Flujo de Actividad Personas servidoras públicas del Gobierno del Estado de Nuevo León. Conjunto de datos que contiene la información sobre las personas servidoras públicas de las dependencias del Gobierno del estado de Nuevo León categorizada por sexo, puesto y percepción salarial. Datos y Recursos Personal_Dependencias_2022_2023_2024CSV Cantidad de personas servidoras públicas de las dependencias del Gobierno del... Explorar Más información Descargar Diccionario de datos Personal de las DependenciasCSV Diccionario de datos del conjunto de datos de las personas servidoras... Explorar Más información Descargar Administración Información Adicional Campo Valor Autor Dirección Central de Capital Humano Última actualización octubre 21, 2024, 16:22 (UTC) Creado agosto 2, 2024, 17:39 (UTC) Período de actualización Anual Sitios del Gobierno de Nuevo León Transparencia N.L. Portal de Gobierno del Estado Sitios de interés de Datos Abiertos Open data charter Open Data Institute Open Data Knowledge AbramosMX ILDA Sitio Desarrollado en CKAN versión 2.10 Sobre el tratamiento de datos personales Manténte informado: Gobierno de nuevo león Un nuevo nuevo león SOPORTADO POR VÍA SISTEMA DE DISEÑO © 2024 DE LA SUBSECRETARÍA DE TECNOLOGIAS BAJO LICENCIA CC BY-NC-SA 4.0'"
      ]
     },
     "execution_count": 19,
     "metadata": {},
     "output_type": "execute_result"
    }
   ],
   "source": [
    "content"
   ]
  },
  {
   "cell_type": "code",
   "execution_count": 18,
   "id": "c30ac421-a0a2-47f2-b25e-27f14eb008a4",
   "metadata": {},
   "outputs": [
    {
     "name": "stdout",
     "output_type": "stream",
     "text": [
      "{\n",
      "  \"scores\": {\n",
      "    \"Does the data exist?\": 100,\n",
      "    \"Is it available online from government in any form?\": 100,\n",
      "    \"Is the dataset provided in machine-readable and reusable formats?\": 100,\n",
      "    \"Is the machine-readable and reusable data available as a whole?\": 100,\n",
      "    \"Is the dataset available free of charge?\": 100,\n",
      "    \"Is the data openly licensed?\": 100,\n",
      "    \"Is the dataset up to date?\": 100,\n",
      "    \"Is the dataset being kept regularly updated?\": 100,\n",
      "    \"Was it easy to find information about this dataset?\": 90,\n",
      "    \"Are data identifiers provided for key elements in the dataset?\": 100\n",
      "  },\n",
      "  \"analysis\": \"The webpage leads to a government official site of Nuevo Le\\u00f3n, which provides a dataset about the public servants and their departments. The data is available in a machine-readable and reusable format, specifically 'CSV'. The dataset looks regularly updated with the last update being in October 2024. The access to the dataset is free and is openly licensed. Information about the dataset is easy to find, being shared on a known domain and being officially supported by the Subsecretar\\u00eda de Tecnolog\\u00edas. The dataset includes clear identifiers for key data elements. Overall, the webpage and its content adhere excellently to the best practices in open data provision.\"\n",
      "}\n"
     ]
    }
   ],
   "source": [
    "page_content = \"\"\"**Skip to main content**...\"\"\" + content # Your provided content\n",
    "    \n",
    "result = evaluate_dataset_page(page_content, \"{API_KEY}\")\n",
    "print(json.dumps(result, indent=2))"
   ]
  },
  {
   "cell_type": "code",
   "execution_count": null,
   "id": "56c86102-43eb-4075-a2e4-cdf4d9e4968f",
   "metadata": {},
   "outputs": [],
   "source": []
  }
 ],
 "metadata": {
  "kernelspec": {
   "display_name": "Python 3 (ipykernel)",
   "language": "python",
   "name": "python3"
  },
  "language_info": {
   "codemirror_mode": {
    "name": "ipython",
    "version": 3
   },
   "file_extension": ".py",
   "mimetype": "text/x-python",
   "name": "python",
   "nbconvert_exporter": "python",
   "pygments_lexer": "ipython3",
   "version": "3.10.10"
  }
 },
 "nbformat": 4,
 "nbformat_minor": 5
}
