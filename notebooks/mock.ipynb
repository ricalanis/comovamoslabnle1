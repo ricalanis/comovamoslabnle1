{
 "cells": [
  {
   "cell_type": "code",
   "execution_count": 1,
   "id": "1eaa5336-d762-410b-84bf-14794282e2ba",
   "metadata": {},
   "outputs": [],
   "source": [
    "# Create dummy data"
   ]
  },
  {
   "cell_type": "code",
   "execution_count": 15,
   "id": "7c59d43b-5d8e-47be-b598-ff8d59cda9cb",
   "metadata": {},
   "outputs": [],
   "source": [
    "standards_match = [\n",
    "  {\n",
    "    \"standard\": \"ISO 8601\",\n",
    "    \"match_grade\": \"amber\",\n",
    "    \"dataset_link\": \"https://example.com/temp-records\"\n",
    "  },\n",
    "  {\n",
    "    \"standard\": \"RFC 3339\",\n",
    "    \"match_grade\": \"green\",\n",
    "    \"dataset_link\": \"https://example.com/temp-records\"\n",
    "  },\n",
    "  {\n",
    "    \"standard\": \"W3C DTF\",\n",
    "    \"match_grade\": \"red\",\n",
    "    \"dataset_link\": \"https://example.com/temp-records\"\n",
    "  }\n",
    "]"
   ]
  },
  {
   "cell_type": "code",
   "execution_count": 16,
   "id": "5ed9383f-79c7-45ec-8ed2-0dc9b57bcf62",
   "metadata": {},
   "outputs": [
    {
     "data": {
      "text/plain": [
       "'ISO 8601'"
      ]
     },
     "execution_count": 16,
     "metadata": {},
     "output_type": "execute_result"
    }
   ],
   "source": [
    "standards_match[0]['standard']"
   ]
  },
  {
   "cell_type": "code",
   "execution_count": 17,
   "id": "a009d73c-2527-41ae-8a32-5da8fbe6a7fb",
   "metadata": {},
   "outputs": [],
   "source": [
    "open_data_grading = {\n",
    "  \"scores\": {\n",
    "    \"Does the data exist?\": 100,\n",
    "    \"Is it available online from government in any form?\": 100,\n",
    "    \"Is the dataset provided in machine-readable and reusable formats?\": 100,\n",
    "    \"Is the machine-readable and reusable data available as a whole?\": 100,\n",
    "    \"Is the dataset available free of charge?\": 100,\n",
    "    \"Is the data openly licensed?\": 100,\n",
    "    \"Is the dataset up to date?\": 100,\n",
    "    \"Is the dataset being kept regularly updated?\": 100,\n",
    "    \"Was it easy to find information about this dataset?\": 90,\n",
    "    \"Are data identifiers provided for key elements in the dataset?\": 100\n",
    "  },\n",
    "  \"analysis\": \"The webpage leads to a government official site of Nuevo Le\\u00f3n, which provides a dataset about the public servants and their departments. The data is available in a machine-readable and reusable format, specifically 'CSV'. The dataset looks regularly updated with the last update being in October 2024. The access to the dataset is free and is openly licensed. Information about the dataset is easy to find, being shared on a known domain and being officially supported by the Subsecretar\\u00eda de Tecnolog\\u00edas. The dataset includes clear identifiers for key data elements. Overall, the webpage and its content adhere excellently to the best practices in open data provision.\"\n",
    "}"
   ]
  },
  {
   "cell_type": "code",
   "execution_count": 18,
   "id": "ab089dd7-cc37-4f10-a62a-7bfce7f00c7f",
   "metadata": {},
   "outputs": [],
   "source": [
    "import json"
   ]
  },
  {
   "cell_type": "code",
   "execution_count": 19,
   "id": "8913569c-f4d6-42ff-ac4c-d04a7d4c0d79",
   "metadata": {},
   "outputs": [],
   "source": [
    "data_grading= json.load(open(\"data_quality_report.json\",\"r\"))"
   ]
  },
  {
   "cell_type": "code",
   "execution_count": 20,
   "id": "68ffa569-1569-40c1-9f62-cf91a6fcfe08",
   "metadata": {},
   "outputs": [],
   "source": [
    "data_grading[\"open_data_grading\"] = open_data_grading"
   ]
  },
  {
   "cell_type": "code",
   "execution_count": 21,
   "id": "b1390622-11ab-46c2-9ef1-00d8d87afc35",
   "metadata": {},
   "outputs": [],
   "source": [
    "data_grading[\"standards_match\"] = standards_match_data"
   ]
  },
  {
   "cell_type": "code",
   "execution_count": 22,
   "id": "9a92b203-14d1-4d4b-add7-0f3be8e7018c",
   "metadata": {},
   "outputs": [],
   "source": [
    "json.dump(data_grading, open(\"data_grading.json\", \"w\"))"
   ]
  },
  {
   "cell_type": "code",
   "execution_count": null,
   "id": "3073e763-2b99-48d6-910c-705e0aaf7144",
   "metadata": {},
   "outputs": [],
   "source": []
  },
  {
   "cell_type": "code",
   "execution_count": null,
   "id": "67c15121-b74e-420b-b938-242b18a7de8c",
   "metadata": {},
   "outputs": [],
   "source": []
  }
 ],
 "metadata": {
  "kernelspec": {
   "display_name": "Python 3 (ipykernel)",
   "language": "python",
   "name": "python3"
  },
  "language_info": {
   "codemirror_mode": {
    "name": "ipython",
    "version": 3
   },
   "file_extension": ".py",
   "mimetype": "text/x-python",
   "name": "python",
   "nbconvert_exporter": "python",
   "pygments_lexer": "ipython3",
   "version": "3.10.10"
  }
 },
 "nbformat": 4,
 "nbformat_minor": 5
}
